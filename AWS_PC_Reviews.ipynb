{
  "nbformat": 4,
  "nbformat_minor": 0,
  "metadata": {
    "colab": {
      "name": "AWS_PC_Reviews.ipynb",
      "provenance": [],
      "collapsed_sections": [],
      "authorship_tag": "ABX9TyMcniB7XMU+JEpbJRs2620Q",
      "include_colab_link": true
    },
    "kernelspec": {
      "name": "python3",
      "display_name": "Python 3"
    }
  },
  "cells": [
    {
      "cell_type": "markdown",
      "metadata": {
        "id": "view-in-github",
        "colab_type": "text"
      },
      "source": [
        "<a href=\"https://colab.research.google.com/github/chanhodchang/Amazon_Reviews_ETL/blob/master/AWS_PC_Reviews.ipynb\" target=\"_parent\"><img src=\"https://colab.research.google.com/assets/colab-badge.svg\" alt=\"Open In Colab\"/></a>"
      ]
    },
    {
      "cell_type": "code",
      "metadata": {
        "id": "KYc9slVMfBEp",
        "colab_type": "code",
        "colab": {}
      },
      "source": [
        "# Install Java, Spark, and Findspark\n",
        "!apt-get install openjdk-8-jdk-headless -qq > /dev/null\n",
        "!wget -q http://www-us.apache.org/dist/spark/spark-2.4.5/spark-2.4.5-bin-hadoop2.7.tgz\n",
        "!tar xf spark-2.4.5-bin-hadoop2.7.tgz\n",
        "!pip install -q findspark\n",
        "\n",
        "# Set Environment Variables\n",
        "import os\n",
        "os.environ[\"JAVA_HOME\"] = \"/usr/lib/jvm/java-8-openjdk-amd64\"\n",
        "os.environ[\"SPARK_HOME\"] = \"/content/spark-2.4.5-bin-hadoop2.7\""
      ],
      "execution_count": 0,
      "outputs": []
    },
    {
      "cell_type": "code",
      "metadata": {
        "id": "MCwbI4jNfC_1",
        "colab_type": "code",
        "outputId": "db394ac7-db7b-4b4e-fa68-0e42099a3a68",
        "colab": {
          "base_uri": "https://localhost:8080/",
          "height": 204
        }
      },
      "source": [
        "# Connect to postgresql\n",
        "!wget https://jdbc.postgresql.org/download/postgresql-42.2.9.jar"
      ],
      "execution_count": 2,
      "outputs": [
        {
          "output_type": "stream",
          "text": [
            "--2020-03-17 20:49:41--  https://jdbc.postgresql.org/download/postgresql-42.2.9.jar\n",
            "Resolving jdbc.postgresql.org (jdbc.postgresql.org)... 72.32.157.228, 2001:4800:3e1:1::228\n",
            "Connecting to jdbc.postgresql.org (jdbc.postgresql.org)|72.32.157.228|:443... connected.\n",
            "HTTP request sent, awaiting response... 200 OK\n",
            "Length: 914037 (893K) [application/java-archive]\n",
            "Saving to: ‘postgresql-42.2.9.jar’\n",
            "\n",
            "\rpostgresql-42.2.9.j   0%[                    ]       0  --.-KB/s               \rpostgresql-42.2.9.j 100%[===================>] 892.61K  4.90MB/s    in 0.2s    \n",
            "\n",
            "2020-03-17 20:49:41 (4.90 MB/s) - ‘postgresql-42.2.9.jar’ saved [914037/914037]\n",
            "\n"
          ],
          "name": "stdout"
        }
      ]
    },
    {
      "cell_type": "code",
      "metadata": {
        "id": "VWc7kjIpfEyw",
        "colab_type": "code",
        "colab": {}
      },
      "source": [
        "# Start a SparkSession\n",
        "import findspark\n",
        "findspark.init()\n",
        "import pyspark\n",
        "\n",
        "# Start Spark session\n",
        "from pyspark.sql import SparkSession\n",
        "spark = SparkSession.builder.appName(\"AWS_PC_Reviews\").config(\"spark.driver.extraClassPath\",\"/content/postgresql-42.2.9.jar\").getOrCreate()"
      ],
      "execution_count": 0,
      "outputs": []
    },
    {
      "cell_type": "code",
      "metadata": {
        "id": "yRri9NB2BwmF",
        "colab_type": "code",
        "colab": {
          "base_uri": "https://localhost:8080/",
          "height": 34
        },
        "outputId": "2d6885a2-4f2c-4289-857e-4c79ae102a7c"
      },
      "source": [
        "!wget -q https://s3.amazonaws.com/amazon-reviews-pds/tsv/amazon_reviews_us_PC_v1_00.tsv.gz\n",
        "!gunzip amazon_reviews_us_PC_v1_00.tsv.gz"
      ],
      "execution_count": 6,
      "outputs": [
        {
          "output_type": "stream",
          "text": [
            "gzip: amazon_reviews_us_PC_v1_00.tsv already exists; do you wish to overwrite (y or n)? y\n"
          ],
          "name": "stdout"
        }
      ]
    },
    {
      "cell_type": "code",
      "metadata": {
        "id": "BXWCM8c_fLkZ",
        "colab_type": "code",
        "outputId": "47c36ead-fd54-46fa-8d98-428d92ca511b",
        "colab": {
          "base_uri": "https://localhost:8080/",
          "height": 479
        }
      },
      "source": [
        "# Load in a sql function to use columns\n",
        "from pyspark.sql.functions import col\n",
        "\n",
        "from pyspark import SparkFiles\n",
        "url = \"https://s3.amazonaws.com/amazon-reviews-pds/tsv/amazon_reviews_us_PC_v1_00.tsv.gz\"\n",
        "spark.sparkContext.addFile(url)\n",
        "pc_df = spark.read.csv(SparkFiles.get(\"amazon_reviews_us_PC_v1_00.tsv.gz\"), sep=\"\\t\", header=True)\n",
        "\n",
        "# Show DataFrame\n",
        "pc_df.show()"
      ],
      "execution_count": 7,
      "outputs": [
        {
          "output_type": "stream",
          "text": [
            "+-----------+-----------+--------------+----------+--------------+--------------------+----------------+-----------+-------------+-----------+----+-----------------+--------------------+--------------------+-----------+\n",
            "|marketplace|customer_id|     review_id|product_id|product_parent|       product_title|product_category|star_rating|helpful_votes|total_votes|vine|verified_purchase|     review_headline|         review_body|review_date|\n",
            "+-----------+-----------+--------------+----------+--------------+--------------------+----------------+-----------+-------------+-----------+----+-----------------+--------------------+--------------------+-----------+\n",
            "|         US|   22873041|R3ARRMDEGED8RD|B00KJWQIIC|     335625766|Plemo 14-Inch Lap...|              PC|          5|            0|          0|   N|                Y|Pleasantly surprised|I was very surpri...| 2015-08-31|\n",
            "|         US|   30088427| RQ28TSA020Y6J|B013ALA9LA|     671157305|TP-Link OnHub AC1...|              PC|          5|           24|         31|   N|                N|OnHub is a pretty...|I am a Google emp...| 2015-08-31|\n",
            "|         US|   20329786| RUXJRZCT6953M|B00PML2GQ8|     982036237|AmazonBasics USB ...|              PC|          1|            2|          2|   N|                N|None of them work...|Bought cables in ...| 2015-08-31|\n",
            "|         US|   14215710| R7EO0UO6BPB71|B001NS0OZ4|     576587596|Transcend P8 15-i...|              PC|          1|            0|          0|   N|                Y|just keep searching.|nope, cheap and slow| 2015-08-31|\n",
            "|         US|   38264512|R39NJY2YJ1JFSV|B00AQMTND2|     964759214|Aleratec SATA Dat...|              PC|          5|            0|          0|   N|                Y|          Five Stars|Excellent! Great ...| 2015-08-31|\n",
            "|         US|   30548466|R31SR7REWNX7CF|B00KX4TORI|     170101802|Kingston Digital ...|              PC|          5|            0|          0|   N|                Y|Good quality, wor...|Good quality,work...| 2015-08-31|\n",
            "|         US|     589298| RVBP8I1R0CTZ8|B00P17WEMY|     206124740|White 9 Inch Unlo...|              PC|          3|            1|          2|   N|                Y|in fact this is t...|This demn tablet ...| 2015-08-31|\n",
            "|         US|   49329488|R1QF6RS1PDLU18|B00TR05L9Y|     778403103|Lenovo TAB2 A10 -...|              PC|          4|            1|          1|   N|                Y|                Good|I am not sure I d...| 2015-08-31|\n",
            "|         US|   50728290|R23AICGEDAJQL1|B0098Y77OG|     177098042|                Acer|              PC|          1|            0|          0|   N|                Y|You get what you ...|After exactly 45 ...| 2015-08-31|\n",
            "|         US|   37802374|R2EY3N4K9W19UP|B00IFYEYXC|     602496520|AzureWave Broadco...|              PC|          5|            3|          4|   N|                Y|Great for Windows...|Replaced my Intel...| 2015-08-31|\n",
            "|         US|   52027882| RC9AW4HKJ016M|B0091ITP0S|     977217357|HDE Rotating iPad...|              PC|          1|            0|          0|   N|                Y|            One Star|IT HAS ALREADY CR...| 2015-08-31|\n",
            "|         US|   41770239|R2ALWJE9N6ZBXD|B008I21EA2|     295632907|Linksys AC1750 Wi...|              PC|          1|            0|          0|   N|                N|   Very Disappointed|Very disappointed...| 2015-08-31|\n",
            "|         US|   42560427|R2G5FPA4OX37GV|B00MRB7SBO|     922591915|iPad Pro 9.7, iPa...|              PC|          5|            1|          1|   N|                Y|          Five Stars|Works well. I use...| 2015-08-31|\n",
            "|         US|   46345923|R1IKTSEVXSIMOD|B00LLER2CS|     997551273|SanDisk 16GB CZ43...|              PC|          5|            0|          0|   N|                Y|The encryption so...|The encryption so...| 2015-08-31|\n",
            "|         US|   41751192|R2YA6G6SRFEWF6|B00B0CQCCC|     937999925|TRENDnet Wireless...|              PC|          1|            0|          1|   N|                Y|Didn't last 2 years.|I have owned this...| 2015-08-31|\n",
            "|         US|   21176481| RS9H1N9I3Z1IA|B00GU8W5AE|      13865167|Redragon M901 PER...|              PC|          5|            0|          0|   N|                Y|Awesome gaming mouse|My first gaming m...| 2015-08-31|\n",
            "|         US|   10674058| RKKLBI76VTDNT|B00XHMXJQ0|     967483469|Mudder MHL Adapte...|              PC|          1|            0|          0|   N|                Y|            One Star|I cannot get it t...| 2015-08-31|\n",
            "|         US|   43341796|R2NJ3WFUS4E5G6|B00YGJJQ6U|     986548413|Fintie iPad Air 2...|              PC|          4|            0|          0|   N|                Y|Great choices of ...|Love that Finite ...| 2015-08-31|\n",
            "|         US|   13232866|R21PTQNLGCBN0I|B00XMN20Y6|     873354048|Fintie iPad 2/3/4...|              PC|          5|            0|          0|   N|                Y|          Five Stars|Nice color, I lov...| 2015-08-31|\n",
            "|         US|   29333557|R3G4RT3EQ9RSY7|B00MA40W9I|     535866197|Egoway® New Lapto...|              PC|          1|            0|          0|   N|                Y|Totally wasted $6...|Totally wasted $6...| 2015-08-31|\n",
            "+-----------+-----------+--------------+----------+--------------+--------------------+----------------+-----------+-------------+-----------+----+-----------------+--------------------+--------------------+-----------+\n",
            "only showing top 20 rows\n",
            "\n"
          ],
          "name": "stdout"
        }
      ]
    },
    {
      "cell_type": "code",
      "metadata": {
        "id": "IlQoReiWB7O8",
        "colab_type": "code",
        "colab": {}
      },
      "source": [
        "# Import struct fields that we can use\n",
        "from pyspark.sql.types import StructField, StringType, IntegerType, StructType, DateType"
      ],
      "execution_count": 0,
      "outputs": []
    },
    {
      "cell_type": "code",
      "metadata": {
        "id": "RzJ2fJfVB7rc",
        "colab_type": "code",
        "colab": {
          "base_uri": "https://localhost:8080/",
          "height": 272
        },
        "outputId": "c38900f4-e7a0-4f93-9f49-5fefba01863a"
      },
      "source": [
        "schema = [StructField('marketplace', StringType(), True), StructField('customer_id', IntegerType(), True),\n",
        "          StructField('review_id', StringType(), True), StructField('product_id', StringType(), True),\n",
        "          StructField('product_parent', IntegerType(), True), StructField('product_title', StringType(), True),\n",
        "          StructField('product_category', StringType(), True), StructField('star_rating', IntegerType(), True),\n",
        "          StructField('helpful_votes', IntegerType(), True), StructField('total_votes', IntegerType(), True),\n",
        "          StructField('vine', StringType(), True), StructField('verified_purchase', StringType(), True),\n",
        "          StructField('review_headline', StringType(), True), StructField('review_body', StringType(), True),\n",
        "          StructField('review_date', DateType(), True), ]\n",
        "schema"
      ],
      "execution_count": 9,
      "outputs": [
        {
          "output_type": "execute_result",
          "data": {
            "text/plain": [
              "[StructField(marketplace,StringType,true),\n",
              " StructField(customer_id,IntegerType,true),\n",
              " StructField(review_id,StringType,true),\n",
              " StructField(product_id,StringType,true),\n",
              " StructField(product_parent,IntegerType,true),\n",
              " StructField(product_title,StringType,true),\n",
              " StructField(product_category,StringType,true),\n",
              " StructField(star_rating,IntegerType,true),\n",
              " StructField(helpful_votes,IntegerType,true),\n",
              " StructField(total_votes,IntegerType,true),\n",
              " StructField(vine,StringType,true),\n",
              " StructField(verified_purchase,StringType,true),\n",
              " StructField(review_headline,StringType,true),\n",
              " StructField(review_body,StringType,true),\n",
              " StructField(review_date,DateType,true)]"
            ]
          },
          "metadata": {
            "tags": []
          },
          "execution_count": 9
        }
      ]
    },
    {
      "cell_type": "code",
      "metadata": {
        "id": "QB_OaMXjCBIF",
        "colab_type": "code",
        "colab": {
          "base_uri": "https://localhost:8080/",
          "height": 306
        },
        "outputId": "09a51e47-9e62-4cad-e36d-4250ef75979b"
      },
      "source": [
        "final=StructType(fields=schema)\n",
        "me_df = spark.read.csv(SparkFiles.get(\"amazon_reviews_us_PC_v1_00.tsv.gz\"), schema=final, sep=\"\\t\", header=True)\n",
        "me_df.printSchema()"
      ],
      "execution_count": 10,
      "outputs": [
        {
          "output_type": "stream",
          "text": [
            "root\n",
            " |-- marketplace: string (nullable = true)\n",
            " |-- customer_id: integer (nullable = true)\n",
            " |-- review_id: string (nullable = true)\n",
            " |-- product_id: string (nullable = true)\n",
            " |-- product_parent: integer (nullable = true)\n",
            " |-- product_title: string (nullable = true)\n",
            " |-- product_category: string (nullable = true)\n",
            " |-- star_rating: integer (nullable = true)\n",
            " |-- helpful_votes: integer (nullable = true)\n",
            " |-- total_votes: integer (nullable = true)\n",
            " |-- vine: string (nullable = true)\n",
            " |-- verified_purchase: string (nullable = true)\n",
            " |-- review_headline: string (nullable = true)\n",
            " |-- review_body: string (nullable = true)\n",
            " |-- review_date: date (nullable = true)\n",
            "\n"
          ],
          "name": "stdout"
        }
      ]
    },
    {
      "cell_type": "code",
      "metadata": {
        "id": "amfoVcyriwIg",
        "colab_type": "code",
        "colab": {}
      },
      "source": [
        "clean_pc = me_df.dropna()"
      ],
      "execution_count": 0,
      "outputs": []
    },
    {
      "cell_type": "code",
      "metadata": {
        "id": "L4lvn8RvofXL",
        "colab_type": "code",
        "outputId": "b2762680-d4b2-45bf-e470-e36af037fb5a",
        "colab": {
          "base_uri": "https://localhost:8080/",
          "height": 459
        }
      },
      "source": [
        "review_id_table = clean_pc.select(['review_id','customer_id','product_id','product_parent','review_date'])\n",
        "review_id_table.show()"
      ],
      "execution_count": 12,
      "outputs": [
        {
          "output_type": "stream",
          "text": [
            "+--------------+-----------+----------+--------------+-----------+\n",
            "|     review_id|customer_id|product_id|product_parent|review_date|\n",
            "+--------------+-----------+----------+--------------+-----------+\n",
            "|R3ARRMDEGED8RD|   22873041|B00KJWQIIC|     335625766| 2015-08-31|\n",
            "| RQ28TSA020Y6J|   30088427|B013ALA9LA|     671157305| 2015-08-31|\n",
            "| RUXJRZCT6953M|   20329786|B00PML2GQ8|     982036237| 2015-08-31|\n",
            "| R7EO0UO6BPB71|   14215710|B001NS0OZ4|     576587596| 2015-08-31|\n",
            "|R39NJY2YJ1JFSV|   38264512|B00AQMTND2|     964759214| 2015-08-31|\n",
            "|R31SR7REWNX7CF|   30548466|B00KX4TORI|     170101802| 2015-08-31|\n",
            "| RVBP8I1R0CTZ8|     589298|B00P17WEMY|     206124740| 2015-08-31|\n",
            "|R1QF6RS1PDLU18|   49329488|B00TR05L9Y|     778403103| 2015-08-31|\n",
            "|R23AICGEDAJQL1|   50728290|B0098Y77OG|     177098042| 2015-08-31|\n",
            "|R2EY3N4K9W19UP|   37802374|B00IFYEYXC|     602496520| 2015-08-31|\n",
            "| RC9AW4HKJ016M|   52027882|B0091ITP0S|     977217357| 2015-08-31|\n",
            "|R2ALWJE9N6ZBXD|   41770239|B008I21EA2|     295632907| 2015-08-31|\n",
            "|R2G5FPA4OX37GV|   42560427|B00MRB7SBO|     922591915| 2015-08-31|\n",
            "|R1IKTSEVXSIMOD|   46345923|B00LLER2CS|     997551273| 2015-08-31|\n",
            "|R2YA6G6SRFEWF6|   41751192|B00B0CQCCC|     937999925| 2015-08-31|\n",
            "| RS9H1N9I3Z1IA|   21176481|B00GU8W5AE|      13865167| 2015-08-31|\n",
            "| RKKLBI76VTDNT|   10674058|B00XHMXJQ0|     967483469| 2015-08-31|\n",
            "|R2NJ3WFUS4E5G6|   43341796|B00YGJJQ6U|     986548413| 2015-08-31|\n",
            "|R21PTQNLGCBN0I|   13232866|B00XMN20Y6|     873354048| 2015-08-31|\n",
            "|R3G4RT3EQ9RSY7|   29333557|B00MA40W9I|     535866197| 2015-08-31|\n",
            "+--------------+-----------+----------+--------------+-----------+\n",
            "only showing top 20 rows\n",
            "\n"
          ],
          "name": "stdout"
        }
      ]
    },
    {
      "cell_type": "code",
      "metadata": {
        "id": "7hGZ5nsVoynT",
        "colab_type": "code",
        "outputId": "167129c8-33a1-4139-f35e-bd540aea8341",
        "colab": {
          "base_uri": "https://localhost:8080/",
          "height": 459
        }
      },
      "source": [
        "products=clean_pc.select(['product_id','product_title'])\n",
        "products =products.dropDuplicates(['product_id'])\n",
        "products.show()"
      ],
      "execution_count": 13,
      "outputs": [
        {
          "output_type": "stream",
          "text": [
            "+----------+--------------------+\n",
            "|product_id|       product_title|\n",
            "+----------+--------------------+\n",
            "|9875987018|Professional Ultr...|\n",
            "|9966285946|Professional King...|\n",
            "|9966694242|Professional King...|\n",
            "|9967222247|Professional King...|\n",
            "|9985538803|Samsung Galaxy St...|\n",
            "|9985725344|Professional King...|\n",
            "|9989476071|Professional King...|\n",
            "|9990950369|Samsung SGH-i780 ...|\n",
            "|B00000J3SV|Intel ICS2USB Cre...|\n",
            "|B00000JBK6|    ALTEC ACS SERIES|\n",
            "|B00002S73F|Guillemot Maxi So...|\n",
            "|B00004VV4B|Viking MN1664P 12...|\n",
            "|B00004YNSK|Sony CPD-E400 19\"...|\n",
            "|B00004Z7BU|Netgear FE104 100...|\n",
            "|B00005045V|Ricoh 12x10x32 CD...|\n",
            "|B000051156|AT&T Anti-Static ...|\n",
            "|B0000511IB|Thinkpad TP56850T...|\n",
            "|B0000511K8|C2G/Cables to Go ...|\n",
            "|B0000512S1|Allied Telesyn Ce...|\n",
            "|B00005853W|Microsoft Wheel M...|\n",
            "+----------+--------------------+\n",
            "only showing top 20 rows\n",
            "\n"
          ],
          "name": "stdout"
        }
      ]
    },
    {
      "cell_type": "code",
      "metadata": {
        "id": "SQ9Edj8UpBG2",
        "colab_type": "code",
        "outputId": "84230c6f-4ba0-484e-f8a1-115ea071a661",
        "colab": {
          "base_uri": "https://localhost:8080/",
          "height": 459
        }
      },
      "source": [
        "customers = clean_pc.groupby('customer_id').count().select('customer_id', col('count').alias('customer_count'))\n",
        "customers.show()"
      ],
      "execution_count": 14,
      "outputs": [
        {
          "output_type": "stream",
          "text": [
            "+-----------+--------------+\n",
            "|customer_id|customer_count|\n",
            "+-----------+--------------+\n",
            "|   42560427|            11|\n",
            "|   14991350|             6|\n",
            "|    9002099|             1|\n",
            "|   35535911|             3|\n",
            "|    1117644|             1|\n",
            "|   46909180|             2|\n",
            "|   48670265|             2|\n",
            "|   43626894|             2|\n",
            "|   17083191|             1|\n",
            "|   20808998|             1|\n",
            "|   36728141|             8|\n",
            "|   16306618|             3|\n",
            "|   13910751|             1|\n",
            "|   27377384|             1|\n",
            "|   19005540|             1|\n",
            "|   51804200|             1|\n",
            "|   47108763|             6|\n",
            "|   51451778|             2|\n",
            "|   44998024|             2|\n",
            "|   32753385|             1|\n",
            "+-----------+--------------+\n",
            "only showing top 20 rows\n",
            "\n"
          ],
          "name": "stdout"
        }
      ]
    },
    {
      "cell_type": "code",
      "metadata": {
        "id": "jMsMc14-pIeU",
        "colab_type": "code",
        "outputId": "53457e15-161e-4e6e-dfd9-e68bb4d13683",
        "colab": {
          "base_uri": "https://localhost:8080/",
          "height": 459
        }
      },
      "source": [
        "vine_table = clean_pc.select(['review_id','star_rating','helpful_votes','total_votes','vine'])\n",
        "vine_table.show()"
      ],
      "execution_count": 15,
      "outputs": [
        {
          "output_type": "stream",
          "text": [
            "+--------------+-----------+-------------+-----------+----+\n",
            "|     review_id|star_rating|helpful_votes|total_votes|vine|\n",
            "+--------------+-----------+-------------+-----------+----+\n",
            "|R3ARRMDEGED8RD|          5|            0|          0|   N|\n",
            "| RQ28TSA020Y6J|          5|           24|         31|   N|\n",
            "| RUXJRZCT6953M|          1|            2|          2|   N|\n",
            "| R7EO0UO6BPB71|          1|            0|          0|   N|\n",
            "|R39NJY2YJ1JFSV|          5|            0|          0|   N|\n",
            "|R31SR7REWNX7CF|          5|            0|          0|   N|\n",
            "| RVBP8I1R0CTZ8|          3|            1|          2|   N|\n",
            "|R1QF6RS1PDLU18|          4|            1|          1|   N|\n",
            "|R23AICGEDAJQL1|          1|            0|          0|   N|\n",
            "|R2EY3N4K9W19UP|          5|            3|          4|   N|\n",
            "| RC9AW4HKJ016M|          1|            0|          0|   N|\n",
            "|R2ALWJE9N6ZBXD|          1|            0|          0|   N|\n",
            "|R2G5FPA4OX37GV|          5|            1|          1|   N|\n",
            "|R1IKTSEVXSIMOD|          5|            0|          0|   N|\n",
            "|R2YA6G6SRFEWF6|          1|            0|          1|   N|\n",
            "| RS9H1N9I3Z1IA|          5|            0|          0|   N|\n",
            "| RKKLBI76VTDNT|          1|            0|          0|   N|\n",
            "|R2NJ3WFUS4E5G6|          4|            0|          0|   N|\n",
            "|R21PTQNLGCBN0I|          5|            0|          0|   N|\n",
            "|R3G4RT3EQ9RSY7|          1|            0|          0|   N|\n",
            "+--------------+-----------+-------------+-----------+----+\n",
            "only showing top 20 rows\n",
            "\n"
          ],
          "name": "stdout"
        }
      ]
    },
    {
      "cell_type": "code",
      "metadata": {
        "id": "WYVpXj3AQrr7",
        "colab_type": "code",
        "colab": {
          "base_uri": "https://localhost:8080/",
          "height": 459
        },
        "outputId": "3c156533-565e-4c8c-897e-f29a608b56ac"
      },
      "source": [
        "non_vine_df = vine_table.filter(col('vine')=='N')\n",
        "non_vine_df.orderBy(non_vine_df['helpful_votes'].desc()).select('star_rating','helpful_votes','total_votes').show()"
      ],
      "execution_count": 17,
      "outputs": [
        {
          "output_type": "stream",
          "text": [
            "+-----------+-------------+-----------+\n",
            "|star_rating|helpful_votes|total_votes|\n",
            "+-----------+-------------+-----------+\n",
            "|          5|        47524|      48362|\n",
            "|          5|        31924|      32373|\n",
            "|          4|        31417|      32166|\n",
            "|          4|        28611|      29433|\n",
            "|          1|        24714|      26143|\n",
            "|          5|        16982|      17441|\n",
            "|          5|        16563|      16865|\n",
            "|          4|        15457|      15985|\n",
            "|          5|        13828|      14145|\n",
            "|          5|        13557|      13870|\n",
            "|          3|        12465|      12970|\n",
            "|          3|        11995|      12278|\n",
            "|          5|        11526|      11832|\n",
            "|          5|        11444|      11819|\n",
            "|          4|        11426|      11744|\n",
            "|          3|        11173|      11684|\n",
            "|          4|        10933|      11205|\n",
            "|          5|        10801|      11125|\n",
            "|          5|        10787|      11005|\n",
            "|          5|        10683|      10900|\n",
            "+-----------+-------------+-----------+\n",
            "only showing top 20 rows\n",
            "\n"
          ],
          "name": "stdout"
        }
      ]
    },
    {
      "cell_type": "code",
      "metadata": {
        "id": "0uxeHfZHYVi2",
        "colab_type": "code",
        "colab": {
          "base_uri": "https://localhost:8080/",
          "height": 459
        },
        "outputId": "d626999a-07f2-4f23-97f0-c7209a1f39ae"
      },
      "source": [
        "paid_vine_df = vine_table.filter(col('vine')=='Y')\n",
        "paid_vine_df.orderBy(paid_vine_df['helpful_votes'].desc()).select('star_rating','helpful_votes','total_votes').show()"
      ],
      "execution_count": 18,
      "outputs": [
        {
          "output_type": "stream",
          "text": [
            "+-----------+-------------+-----------+\n",
            "|star_rating|helpful_votes|total_votes|\n",
            "+-----------+-------------+-----------+\n",
            "|          5|         3028|       3159|\n",
            "|          5|         2482|       2598|\n",
            "|          5|         1842|       1907|\n",
            "|          5|         1661|       1714|\n",
            "|          4|         1635|       1670|\n",
            "|          5|         1298|       1437|\n",
            "|          5|         1288|       1328|\n",
            "|          5|         1162|       1259|\n",
            "|          3|         1033|       1145|\n",
            "|          4|          984|       1013|\n",
            "|          5|          922|        967|\n",
            "|          5|          903|        935|\n",
            "|          4|          859|        887|\n",
            "|          4|          855|        919|\n",
            "|          3|          852|        956|\n",
            "|          4|          724|        748|\n",
            "|          3|          712|        739|\n",
            "|          3|          680|        720|\n",
            "|          3|          660|        695|\n",
            "|          4|          644|        678|\n",
            "+-----------+-------------+-----------+\n",
            "only showing top 20 rows\n",
            "\n"
          ],
          "name": "stdout"
        }
      ]
    },
    {
      "cell_type": "code",
      "metadata": {
        "id": "wMU5GTRKZpmn",
        "colab_type": "code",
        "colab": {
          "base_uri": "https://localhost:8080/",
          "height": 34
        },
        "outputId": "e2f61f41-bcb0-41e1-f0e5-cb7cd77b17ac"
      },
      "source": [
        "non_vine_df.filter('star_rating = 5').select('helpful_votes').count()"
      ],
      "execution_count": 19,
      "outputs": [
        {
          "output_type": "execute_result",
          "data": {
            "text/plain": [
              "4090931"
            ]
          },
          "metadata": {
            "tags": []
          },
          "execution_count": 19
        }
      ]
    },
    {
      "cell_type": "code",
      "metadata": {
        "id": "wdTH4hPPaOSL",
        "colab_type": "code",
        "colab": {
          "base_uri": "https://localhost:8080/",
          "height": 34
        },
        "outputId": "587a2f7c-fbeb-46c2-d69c-e7eadf6547fe"
      },
      "source": [
        "paid_vine_df.filter('star_rating = 5').select('helpful_votes').count()"
      ],
      "execution_count": 20,
      "outputs": [
        {
          "output_type": "execute_result",
          "data": {
            "text/plain": [
              "15706"
            ]
          },
          "metadata": {
            "tags": []
          },
          "execution_count": 20
        }
      ]
    },
    {
      "cell_type": "code",
      "metadata": {
        "id": "iJQP0FANaOfB",
        "colab_type": "code",
        "colab": {
          "base_uri": "https://localhost:8080/",
          "height": 187
        },
        "outputId": "26d9a298-dd18-4824-d6b2-be36f4b4c957"
      },
      "source": [
        "non_vine_avg= non_vine_df.groupBy('star_rating').avg()\n",
        "non_vine_avg.orderBy(non_vine_avg['star_rating'].desc()).select('star_rating','avg(helpful_votes)','avg(total_votes)').show()"
      ],
      "execution_count": 23,
      "outputs": [
        {
          "output_type": "stream",
          "text": [
            "+-----------+------------------+------------------+\n",
            "|star_rating|avg(helpful_votes)|  avg(total_votes)|\n",
            "+-----------+------------------+------------------+\n",
            "|          5|1.2084664835461658|1.4218291630927042|\n",
            "|          4|1.5202392350296317|1.8044057126928916|\n",
            "|          3|1.8001080826144202|2.5380843830447857|\n",
            "|          2|1.6481129197748259|2.6600232938631763|\n",
            "|          1| 2.438265712223101| 4.182918122175476|\n",
            "+-----------+------------------+------------------+\n",
            "\n"
          ],
          "name": "stdout"
        }
      ]
    },
    {
      "cell_type": "code",
      "metadata": {
        "id": "nFuQadznbOmK",
        "colab_type": "code",
        "colab": {
          "base_uri": "https://localhost:8080/",
          "height": 187
        },
        "outputId": "e6b9ecea-984f-4421-afa8-6994b89169cb"
      },
      "source": [
        "paid_vine_avg = paid_vine_df.groupBy('star_rating').avg()\n",
        "paid_vine_avg.orderBy(non_vine_avg['star_rating'].desc()).select('star_rating','avg(helpful_votes)','avg(total_votes)').show()"
      ],
      "execution_count": 24,
      "outputs": [
        {
          "output_type": "stream",
          "text": [
            "+-----------+------------------+------------------+\n",
            "|star_rating|avg(helpful_votes)|  avg(total_votes)|\n",
            "+-----------+------------------+------------------+\n",
            "|          5|  5.90201196994779| 6.886667515599134|\n",
            "|          4| 5.082655826558265| 5.957844022884673|\n",
            "|          3| 5.661013485901103| 7.069064160196159|\n",
            "|          2| 4.017083587553386|5.5070164734594265|\n",
            "|          1|6.7227722772277225| 9.168316831683168|\n",
            "+-----------+------------------+------------------+\n",
            "\n"
          ],
          "name": "stdout"
        }
      ]
    },
    {
      "cell_type": "code",
      "metadata": {
        "id": "51bNktsabPnv",
        "colab_type": "code",
        "colab": {
          "base_uri": "https://localhost:8080/",
          "height": 34
        },
        "outputId": "2a5da1b1-68cd-40b2-9fbc-5c10f0b68228"
      },
      "source": [
        "non_vine_df.select('review_id').count()"
      ],
      "execution_count": 25,
      "outputs": [
        {
          "output_type": "execute_result",
          "data": {
            "text/plain": [
              "6871915"
            ]
          },
          "metadata": {
            "tags": []
          },
          "execution_count": 25
        }
      ]
    },
    {
      "cell_type": "code",
      "metadata": {
        "id": "-mBx-FFFcxKw",
        "colab_type": "code",
        "colab": {
          "base_uri": "https://localhost:8080/",
          "height": 34
        },
        "outputId": "4c08ff2e-c37a-41bf-af87-8ab9a18ee629"
      },
      "source": [
        "paid_vine_df.select('review_id').count()"
      ],
      "execution_count": 26,
      "outputs": [
        {
          "output_type": "execute_result",
          "data": {
            "text/plain": [
              "36230"
            ]
          },
          "metadata": {
            "tags": []
          },
          "execution_count": 26
        }
      ]
    },
    {
      "cell_type": "code",
      "metadata": {
        "id": "0yTm_R02cxam",
        "colab_type": "code",
        "colab": {
          "base_uri": "https://localhost:8080/",
          "height": 34
        },
        "outputId": "53db81b1-3adc-4e74-eae5-3270fd6f58af"
      },
      "source": [
        "non_vine_df.select('helpful_votes').count()"
      ],
      "execution_count": 27,
      "outputs": [
        {
          "output_type": "execute_result",
          "data": {
            "text/plain": [
              "6871915"
            ]
          },
          "metadata": {
            "tags": []
          },
          "execution_count": 27
        }
      ]
    },
    {
      "cell_type": "code",
      "metadata": {
        "id": "zXxe5LEVdEce",
        "colab_type": "code",
        "colab": {
          "base_uri": "https://localhost:8080/",
          "height": 34
        },
        "outputId": "1eeb4c3a-7df7-4a46-f08c-b6979fa0c69d"
      },
      "source": [
        "paid_vine_df.select('helpful_votes').count()"
      ],
      "execution_count": 28,
      "outputs": [
        {
          "output_type": "execute_result",
          "data": {
            "text/plain": [
              "36230"
            ]
          },
          "metadata": {
            "tags": []
          },
          "execution_count": 28
        }
      ]
    },
    {
      "cell_type": "code",
      "metadata": {
        "id": "BCH0fjoswpc2",
        "colab_type": "code",
        "colab": {}
      },
      "source": [
        "# Configure setting for RDS\n",
        "mode = 'append'\n",
        "jdbc_url=\"jdbc:postgresql://dataviz.cbp360boojkd.us-east-2.rds.amazonaws.com:5431/AWS_PC_Reviews\"\n",
        "config = {\"user\":\"postgres\",\n",
        "          \"password\": \"Dc909263\",\n",
        "          \"driver\":\"org.postgresql.Driver\"}"
      ],
      "execution_count": 0,
      "outputs": []
    },
    {
      "cell_type": "code",
      "metadata": {
        "id": "l0n2mmPat1JG",
        "colab_type": "code",
        "colab": {}
      },
      "source": [
        "# Write DataFrame to review_id_table table in RDS\n",
        "review_id_table.write.jdbc(url=jdbc_url, table='review_id_table', mode=mode, properties=config)"
      ],
      "execution_count": 0,
      "outputs": []
    },
    {
      "cell_type": "code",
      "metadata": {
        "id": "7gAP7xRLvVwa",
        "colab_type": "code",
        "colab": {}
      },
      "source": [
        "# Write DataFrame to products table in RDS\n",
        "products.write.jdbc(url=jdbc_url, table='products', mode=mode, properties=config)"
      ],
      "execution_count": 0,
      "outputs": []
    },
    {
      "cell_type": "code",
      "metadata": {
        "id": "jVWu_elw6RNr",
        "colab_type": "code",
        "colab": {}
      },
      "source": [
        "# Write DataFrame to customers table in RDS\n",
        "customers.write.jdbc(url=jdbc_url, table='customers', mode=mode, properties=config)"
      ],
      "execution_count": 0,
      "outputs": []
    },
    {
      "cell_type": "code",
      "metadata": {
        "id": "-ern4_NZ6R90",
        "colab_type": "code",
        "colab": {}
      },
      "source": [
        "# Write DataFrame to vine_table table in RDS\n",
        "vine_table.write.jdbc(url=jdbc_url, table='vine_table', mode=mode, properties=config)"
      ],
      "execution_count": 0,
      "outputs": []
    },
    {
      "cell_type": "code",
      "metadata": {
        "id": "4K4E4IbQ9LOT",
        "colab_type": "code",
        "colab": {}
      },
      "source": [
        ""
      ],
      "execution_count": 0,
      "outputs": []
    }
  ]
}